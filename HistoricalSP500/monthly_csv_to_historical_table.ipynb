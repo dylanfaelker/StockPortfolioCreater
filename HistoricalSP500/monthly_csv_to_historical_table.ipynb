{
 "cells": [
  {
   "cell_type": "code",
   "execution_count": null,
   "metadata": {},
   "outputs": [],
   "source": [
    "import datetime as dt\n",
    "import pandas as pd\n",
    "import numpy as np"
   ]
  },
  {
   "cell_type": "code",
   "execution_count": null,
   "metadata": {},
   "outputs": [],
   "source": [
    "master = pd.DataFrame({'Date': []})\n",
    "\n",
    "leap = \"Feb 29\"\n",
    "months = ['Jan 31', 'Feb 28', 'Mar 31', 'Apr 30', 'May 31', 'Jun 30', 'Jul 31', 'Aug 31', 'Sep 30', 'Oct 31', 'Nov 30', 'Dec 31']\n",
    "\n",
    "for year in range(2013, 2024):\n",
    "    for m in range(1, len(months)+1):\n",
    "        # First date is Aug 2013\n",
    "        if year == 2013 and m < 8:\n",
    "            continue\n",
    "        # Last date is Sep 2023\n",
    "        if year == 2023 and m > 9:\n",
    "            break\n",
    "\n",
    "        date = dt.datetime(year, m, 1)\n",
    "        datestr = months[m-1]\n",
    "        if m == 2 and year % 4 == 0:\n",
    "            datestr = 'Feb 29'\n",
    "        datestr += ' ' + str(year)\n",
    "\n",
    "        constituents = pd.read_excel('./data/SPX as of ' + datestr + '1.xlsx', engine='openpyxl')\n",
    "        tickers = constituents.Ticker.str.split().str.get(0)\n",
    "\n",
    "        entry = pd.DataFrame(np.append([date], tickers)).transpose()\n",
    "        entry.columns = ['Date', *entry.columns[1:]]\n",
    "\n",
    "        master = pd.concat([master, entry], axis=0, ignore_index=True)\n",
    "master.set_index('Date', inplace=True)\n",
    "master"
   ]
  },
  {
   "cell_type": "code",
   "execution_count": null,
   "metadata": {},
   "outputs": [],
   "source": [
    "master.to_csv('./SP500_monthly_hist.csv')"
   ]
  }
 ],
 "metadata": {
  "language_info": {
   "name": "python"
  },
  "orig_nbformat": 4
 },
 "nbformat": 4,
 "nbformat_minor": 2
}
