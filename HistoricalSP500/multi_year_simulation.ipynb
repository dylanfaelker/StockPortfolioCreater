{
 "cells": [
  {
   "cell_type": "code",
   "execution_count": 1,
   "metadata": {},
   "outputs": [],
   "source": [
    "import warnings\n",
    "warnings.filterwarnings(\"ignore\")"
   ]
  },
  {
   "cell_type": "code",
   "execution_count": 2,
   "metadata": {},
   "outputs": [],
   "source": [
    "import pandas as pd\n",
    "from pandas.tseries.offsets import MonthEnd\n",
    "from pandas.tseries.offsets import Day\n",
    "from pandas.tseries.offsets import BusinessDay as BDay\n",
    "import numpy as np\n",
    "import yfinance as yf\n",
    "from datetime import datetime\n",
    "from datetime import date\n",
    "from datetime import timedelta\n",
    "import concurrent.futures as cf"
   ]
  },
  {
   "cell_type": "code",
   "execution_count": 3,
   "metadata": {},
   "outputs": [],
   "source": [
    "INIT_VAL = 100000\n",
    "LOOKBACK_YEARS = 5"
   ]
  },
  {
   "cell_type": "markdown",
   "metadata": {},
   "source": [
    "## Prep"
   ]
  },
  {
   "cell_type": "code",
   "execution_count": 4,
   "metadata": {},
   "outputs": [],
   "source": [
    "monthly_constituents = pd.read_csv('./SP500_monthly_hist.csv')\n",
    "monthly_constituents.set_index('Date', inplace=True)"
   ]
  },
  {
   "cell_type": "code",
   "execution_count": 5,
   "metadata": {},
   "outputs": [],
   "source": [
    "ticker_list = set(monthly_constituents.to_numpy().flatten())\n",
    "ticker_list.remove(np.nan)\n",
    "ticker_list = [elem for elem in ticker_list if not elem[0].isnumeric()]"
   ]
  },
  {
   "cell_type": "code",
   "execution_count": 6,
   "metadata": {},
   "outputs": [],
   "source": [
    "start_date_data = pd.to_datetime(monthly_constituents.index[0]) - pd.DateOffset(years=LOOKBACK_YEARS)\n",
    "end_date_data = pd.to_datetime(monthly_constituents.index[-1]) + MonthEnd(0) + MonthEnd(1)"
   ]
  },
  {
   "cell_type": "markdown",
   "metadata": {},
   "source": [
    "## Retrieving data from yahoo"
   ]
  },
  {
   "cell_type": "code",
   "execution_count": 7,
   "metadata": {},
   "outputs": [],
   "source": [
    "# Retrieves relevant yahoo data for a single ticker\n",
    "def retreive_yahoo_data_thread(ticker):\n",
    "    stock = yf.Ticker(ticker)\n",
    "    stock_hist = stock.history(start=start_date_data, end=end_date_data, interval='1d')\n",
    "    if not stock_hist.index.empty:\n",
    "        stock_hist.index = stock_hist.index.tz_localize(None)\n",
    "        \n",
    "        return {ticker: stock_hist['Close'].dropna()}\n",
    "    else:\n",
    "        return False\n",
    "\n",
    "# Produces a dict with tickers and corresonding finance data to go with them.\n",
    "def retreive_yahoo_data(tickers):\n",
    "    \n",
    "    tickers_data =  {}\n",
    "    \n",
    "    # Threading\n",
    "    with cf.ThreadPoolExecutor() as executor:\n",
    "        \n",
    "        # Creates a thread for each ticker\n",
    "        datarow = [executor.submit(retreive_yahoo_data_thread, ticker) for ticker in tickers]\n",
    "        \n",
    "        for row in cf.as_completed(datarow):\n",
    "            # print('!!!!!!!!!!!!!!!!!!!!!!!!!')\n",
    "            # print(row)\n",
    "            # print(type(row))\n",
    "            # print(row.result())\n",
    "            # print(type(row.result()) == bool)\n",
    "            try:\n",
    "                if type(row.result()) != bool and not list(row.result().values())[0].empty:\n",
    "                    # print('#####################')\n",
    "                    # print(row.result())\n",
    "                    # print(row.result()[0])\n",
    "                    # print(row.result().Close[0])\n",
    "                    tickers_data.update(row.result())\n",
    "            except:\n",
    "                pass\n",
    "    return tickers_data"
   ]
  },
  {
   "cell_type": "code",
   "execution_count": 8,
   "metadata": {},
   "outputs": [
    {
     "name": "stdout",
     "output_type": "stream",
     "text": [
      "- XLNX: No data found, symbol may be delisted\n",
      "- MXIM: No data found, symbol may be delisted\n",
      "- KSU: No data found, symbol may be delisted\n",
      "- VAR: No data found, symbol may be delisted\n",
      "- TWTR: No data found, symbol may be delisted\n",
      "- PBCT: No data found, symbol may be delisted\n",
      "- CTXS: No data found, symbol may be delisted\n",
      "- MYL: No data found, symbol may be delisted\n",
      "- DISCA: No data found, symbol may be delisted\n",
      "- ETFC: No data found, symbol may be delisted\n",
      "- CXO: No data found, symbol may be delisted\n",
      "- NBL: No data found, symbol may be delisted\n",
      "- INFO: No data found, symbol may be delisted\n",
      "- ALXN: No data found, symbol may be delisted\n",
      "- FLIR: No data found, symbol may be delisted\n",
      "- DRE: No data found, symbol may be delisted\n",
      "- HFC: No data found, symbol may be delisted\n",
      "- CERN: No data found, symbol may be delisted\n",
      "- NLSN: No data found, symbol may be delisted\n",
      "- DISCK: No data found, symbol may be delisted\n"
     ]
    }
   ],
   "source": [
    "#Grabs market data for S&P500\n",
    "market_index = yf.Ticker('^GSPC')\n",
    "market_hist = market_index.history(start=start_date_data, end=end_date_data, interval='1d')\n",
    "market_hist = market_hist[['Close']]\n",
    "market_hist.index = market_hist.index.tz_localize(None)\n",
    "daily_market_returns = market_hist.pct_change()\n",
    "\n",
    "# all_ticker_data = retreive_yahoo_data(random.sample(ticker_list, 30))\n",
    "all_ticker_data = retreive_yahoo_data(ticker_list)"
   ]
  },
  {
   "cell_type": "markdown",
   "metadata": {},
   "source": [
    "## Creating portfolio"
   ]
  },
  {
   "cell_type": "code",
   "execution_count": 9,
   "metadata": {},
   "outputs": [],
   "source": [
    "from utils import get_price_history_multi\n",
    "from utils import get_price_history\n",
    "from utils import populate_next_month"
   ]
  },
  {
   "cell_type": "code",
   "execution_count": 10,
   "metadata": {},
   "outputs": [],
   "source": [
    "from portfolio_algos.safe_portfolio import produce_portfolio"
   ]
  },
  {
   "cell_type": "code",
   "execution_count": 11,
   "metadata": {},
   "outputs": [
    {
     "name": "stdout",
     "output_type": "stream",
     "text": [
      "36\r"
     ]
    }
   ],
   "source": [
    "portfolio_history = pd.DataFrame()\n",
    "\n",
    "current_value = INIT_VAL\n",
    "\n",
    "i=1\n",
    "for month in monthly_constituents.index:\n",
    "    print(i, end='\\r')\n",
    "    i+=1\n",
    "    \n",
    "    end_date = pd.to_datetime(month)\n",
    "    start_date = pd.to_datetime(month) - pd.DateOffset(years=LOOKBACK_YEARS)\n",
    "    start_date = date(end_date.year - LOOKBACK_YEARS, end_date.month, end_date.day)\n",
    "    eom_date = end_date + MonthEnd(0) + BDay(1)\n",
    "    portfolio = produce_portfolio(all_ticker_data, start_date, end_date, eom_date, monthly_constituents.loc[month,:].to_numpy(), current_value, daily_market_returns)\n",
    "\n",
    "    value_for_month_df = populate_next_month(all_ticker_data, portfolio, end_date, eom_date)\n",
    "\n",
    "    current_value = value_for_month_df['Total Value'].iloc[-1]\n",
    "\n",
    "    value_for_month_df = value_for_month_df.iloc[:-1,:]\n",
    "    portfolio_history = pd.concat([portfolio_history, value_for_month_df])\n",
    "try:\n",
    "    shares_of_market = INIT_VAL / market_hist.loc[pd.Timestamp(monthly_constituents.index[0]) + BDay(0), 'Close']\n",
    "except:\n",
    "    shares_of_market = INIT_VAL / market_hist.loc[pd.Timestamp(monthly_constituents.index[0]) + BDay(2), 'Close']\n",
    "market_hist['SP500'] = market_hist['Close'] * shares_of_market\n",
    "portfolio_history = pd.concat([portfolio_history, market_hist['SP500']], join='inner', axis=1)"
   ]
  },
  {
   "cell_type": "code",
   "execution_count": 12,
   "metadata": {},
   "outputs": [
    {
     "data": {
      "text/html": [
       "<div>\n",
       "<style scoped>\n",
       "    .dataframe tbody tr th:only-of-type {\n",
       "        vertical-align: middle;\n",
       "    }\n",
       "\n",
       "    .dataframe tbody tr th {\n",
       "        vertical-align: top;\n",
       "    }\n",
       "\n",
       "    .dataframe thead th {\n",
       "        text-align: right;\n",
       "    }\n",
       "</style>\n",
       "<table border=\"1\" class=\"dataframe\">\n",
       "  <thead>\n",
       "    <tr style=\"text-align: right;\">\n",
       "      <th></th>\n",
       "      <th>Total Value</th>\n",
       "      <th>SP500</th>\n",
       "    </tr>\n",
       "  </thead>\n",
       "  <tbody>\n",
       "    <tr>\n",
       "      <th>2020-10-01</th>\n",
       "      <td>100000.000000</td>\n",
       "      <td>100000.000000</td>\n",
       "    </tr>\n",
       "    <tr>\n",
       "      <th>2020-10-02</th>\n",
       "      <td>99081.809272</td>\n",
       "      <td>99042.234782</td>\n",
       "    </tr>\n",
       "    <tr>\n",
       "      <th>2020-10-05</th>\n",
       "      <td>99780.535732</td>\n",
       "      <td>100822.292015</td>\n",
       "    </tr>\n",
       "    <tr>\n",
       "      <th>2020-10-06</th>\n",
       "      <td>98419.847795</td>\n",
       "      <td>99413.450135</td>\n",
       "    </tr>\n",
       "    <tr>\n",
       "      <th>2020-10-07</th>\n",
       "      <td>99669.000303</td>\n",
       "      <td>101142.921558</td>\n",
       "    </tr>\n",
       "    <tr>\n",
       "      <th>...</th>\n",
       "      <td>...</td>\n",
       "      <td>...</td>\n",
       "    </tr>\n",
       "    <tr>\n",
       "      <th>2023-09-25</th>\n",
       "      <td>136628.275726</td>\n",
       "      <td>128296.257654</td>\n",
       "    </tr>\n",
       "    <tr>\n",
       "      <th>2023-09-26</th>\n",
       "      <td>135107.786152</td>\n",
       "      <td>126405.872085</td>\n",
       "    </tr>\n",
       "    <tr>\n",
       "      <th>2023-09-27</th>\n",
       "      <td>135173.037848</td>\n",
       "      <td>126434.858728</td>\n",
       "    </tr>\n",
       "    <tr>\n",
       "      <th>2023-09-28</th>\n",
       "      <td>137729.420426</td>\n",
       "      <td>127179.961347</td>\n",
       "    </tr>\n",
       "    <tr>\n",
       "      <th>2023-09-29</th>\n",
       "      <td>137196.753747</td>\n",
       "      <td>126835.356802</td>\n",
       "    </tr>\n",
       "  </tbody>\n",
       "</table>\n",
       "<p>752 rows × 2 columns</p>\n",
       "</div>"
      ],
      "text/plain": [
       "              Total Value          SP500\n",
       "2020-10-01  100000.000000  100000.000000\n",
       "2020-10-02   99081.809272   99042.234782\n",
       "2020-10-05   99780.535732  100822.292015\n",
       "2020-10-06   98419.847795   99413.450135\n",
       "2020-10-07   99669.000303  101142.921558\n",
       "...                   ...            ...\n",
       "2023-09-25  136628.275726  128296.257654\n",
       "2023-09-26  135107.786152  126405.872085\n",
       "2023-09-27  135173.037848  126434.858728\n",
       "2023-09-28  137729.420426  127179.961347\n",
       "2023-09-29  137196.753747  126835.356802\n",
       "\n",
       "[752 rows x 2 columns]"
      ]
     },
     "execution_count": 12,
     "metadata": {},
     "output_type": "execute_result"
    }
   ],
   "source": [
    "portfolio_history"
   ]
  },
  {
   "cell_type": "markdown",
   "metadata": {},
   "source": [
    "## Exporting"
   ]
  },
  {
   "cell_type": "code",
   "execution_count": 13,
   "metadata": {},
   "outputs": [],
   "source": [
    "portfolio_history.index = portfolio_history.index.strftime(\"%m/%d/%y\")\n",
    "portfolio_history.T.to_json('portfolio_vs_sp500_hist.json')"
   ]
  },
  {
   "cell_type": "code",
   "execution_count": null,
   "metadata": {},
   "outputs": [],
   "source": []
  }
 ],
 "metadata": {
  "kernelspec": {
   "display_name": "portfolio-generator",
   "language": "python",
   "name": "python3"
  },
  "language_info": {
   "codemirror_mode": {
    "name": "ipython",
    "version": 3
   },
   "file_extension": ".py",
   "mimetype": "text/x-python",
   "name": "python",
   "nbconvert_exporter": "python",
   "pygments_lexer": "ipython3",
   "version": "3.8.18"
  },
  "orig_nbformat": 4
 },
 "nbformat": 4,
 "nbformat_minor": 2
}
